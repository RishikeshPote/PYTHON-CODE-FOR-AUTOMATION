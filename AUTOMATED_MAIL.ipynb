{
 "cells": [
  {
   "cell_type": "code",
   "execution_count": 12,
   "metadata": {},
   "outputs": [],
   "source": [
    "import os\n",
    "import sys\n",
    "import smtplib\n",
    "from email import encoders\n",
    "from email.mime.base import MIMEBase\n",
    "from email.mime.multipart import MIMEMultipart\n"
   ]
  },
  {
   "cell_type": "code",
   "execution_count": 16,
   "metadata": {},
   "outputs": [
    {
     "name": "stdout",
     "output_type": "stream",
     "text": [
      "Email sent!\n"
     ]
    }
   ],
   "source": [
    "\n",
    "COMMASPACE = ', '\n",
    "\n",
    "def main():\n",
    "    sender = 'rishikeshrpote@gmail.com'\n",
    "    gmail_password = 'Rishi@786'\n",
    "    recipients = ['ruushi786@gmail.com']\n",
    "    \n",
    "    # Create the enclosing (outer) message\n",
    "    outer = MIMEMultipart()\n",
    "    outer['Subject'] = 'MISSION IMPORSSIBLE'\n",
    "    outer['To'] = COMMASPACE.join(recipients)\n",
    "    outer['From'] = sender\n",
    "    outer.preamble = 'You will not see this in a MIME-aware mail reader.\\n'\n",
    "\n",
    "    # List of attachments\n",
    "    attachments = ['E:\\FLIGHT_NETWORK_PROJECT\\FN_EXCEL_XLSX_FILES.rar','E:\\FLIGHT_NETWORK_PROJECT\\FN_GENERATED_CSVs.rar','E:\\FLIGHT_NETWORK_PROJECT\\Solution.docx','E:\\FLIGHT_NETWORK_PROJECT\\EXCEL_TO_CSV_SOLUTION_RISHIKESH_POTE.ipynb','E:\\FLIGHT_NETWORK_PROJECT\\EXCEL_TO_CSV_SOLUTION_RISHIKESH_POTE.py']\n",
    "    \n",
    "    \n",
    "    # Add the attachments to the message\n",
    "    for file in attachments:\n",
    "        try:\n",
    "            with open(file, 'rb') as fp:\n",
    "                msg = MIMEBase('application', \"octet-stream\")\n",
    "                msg.set_payload(fp.read())\n",
    "            encoders.encode_base64(msg)\n",
    "            msg.add_header('Content-Disposition', 'attachment', filename=os.path.basename(file))\n",
    "            outer.attach(msg)\n",
    "        except:\n",
    "            print(\"Unable to open one of the attachments. Error: \", sys.exc_info()[0])\n",
    "            raise\n",
    "\n",
    "    composed = outer.as_string()\n",
    "\n",
    "    # Send the email\n",
    "    try:\n",
    "        with smtplib.SMTP('smtp.gmail.com', 587) as s:\n",
    "            s.ehlo()\n",
    "            s.starttls()\n",
    "            s.ehlo()\n",
    "            s.login(sender, gmail_password)\n",
    "            s.sendmail(sender, recipients, composed)\n",
    "            s.close()\n",
    "        print(\"Email sent!\")\n",
    "    except:\n",
    "        print(\"Unable to send the email. Error: \", sys.exc_info()[0])\n",
    "        raise\n",
    "\n",
    "if __name__ == '__main__':\n",
    "    main()"
   ]
  },
  {
   "cell_type": "code",
   "execution_count": null,
   "metadata": {},
   "outputs": [],
   "source": []
  },
  {
   "cell_type": "code",
   "execution_count": null,
   "metadata": {},
   "outputs": [],
   "source": []
  }
 ],
 "metadata": {
  "kernelspec": {
   "display_name": "Python 3",
   "language": "python",
   "name": "python3"
  },
  "language_info": {
   "codemirror_mode": {
    "name": "ipython",
    "version": 3
   },
   "file_extension": ".py",
   "mimetype": "text/x-python",
   "name": "python",
   "nbconvert_exporter": "python",
   "pygments_lexer": "ipython3",
   "version": "3.7.0"
  }
 },
 "nbformat": 4,
 "nbformat_minor": 2
}
