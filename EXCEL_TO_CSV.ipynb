{
 "cells": [
  {
   "cell_type": "code",
   "execution_count": 1,
   "metadata": {},
   "outputs": [
    {
     "name": "stderr",
     "output_type": "stream",
     "text": [
      "D:\\SOFTWARE\\ANACONDA3\\lib\\site-packages\\ipykernel_launcher.py:17: DeprecationWarning: Call to deprecated function get_sheet_names (Use wb.sheetnames).\n",
      "D:\\SOFTWARE\\ANACONDA3\\lib\\site-packages\\ipykernel_launcher.py:19: DeprecationWarning: Call to deprecated function get_sheet_by_name (Use wb[sheetname]).\n",
      "D:\\SOFTWARE\\ANACONDA3\\lib\\site-packages\\ipykernel_launcher.py:19: DeprecationWarning: Call to deprecated function get_sheet_by_name (Use wb[sheetname]).\n",
      "D:\\SOFTWARE\\ANACONDA3\\lib\\site-packages\\ipykernel_launcher.py:19: DeprecationWarning: Call to deprecated function get_sheet_by_name (Use wb[sheetname]).\n"
     ]
    }
   ],
   "source": [
    "# Developed By Rishikesh R Pote\n",
    "#Excel To Csv Using python3\n",
    "# openpyxl to read/write Excel files\n",
    "import openpyxl\n",
    "# Os module for Operating System functionalities\n",
    "import  os\n",
    "# for csv functionalities\n",
    "import csv\n",
    "\n",
    "\n",
    "# Target Directory containing xlsx files\n",
    "os.chdir('E:\\FLIGHT_NETWORK_PROJECT')\n",
    "for ExcelFiles in os.listdir('.'):\n",
    "    # Skip non-xlsx files, load the workbook object.\n",
    "    if ExcelFiles.endswith('.xlsx') == False:\n",
    "        continue\n",
    "    wb = openpyxl.load_workbook(ExcelFiles)\n",
    "    for sheetName in wb.get_sheet_names():\n",
    "        # Loop through every sheet in the workbook.\n",
    "        sheet = wb.get_sheet_by_name(sheetName)\n",
    "\n",
    "        # Create the CSV filename from the Excel filename and sheet title.\n",
    "        csvFile = open(ExcelFiles[:-5] + '_' + sheetName + '.csv', 'w', newline='')\n",
    "        # Create the csv.writer object for this CSV file.\n",
    "        csvWriter = csv.writer(csvFile)\n",
    "        # Loop through every row in the sheet.\n",
    "        for rowNum in range(1, sheet.max_row + 1):\n",
    "            rowData = []    # append each cell to this list\n",
    "            # Loop through each cell in the row.\n",
    "            for colNum in range(1, sheet.max_column + 1):\n",
    "                # Append each cell's data to rowData.\n",
    "                rowData.append(sheet.cell(row = rowNum, column = colNum).value)\n",
    "            # Write the rowData list to the CSV file.\n",
    "            csvWriter.writerow(rowData)\n",
    "        csvFile.close()"
   ]
  }
 ],
 "metadata": {
  "kernelspec": {
   "display_name": "Python 3",
   "language": "python",
   "name": "python3"
  },
  "language_info": {
   "codemirror_mode": {
    "name": "ipython",
    "version": 3
   },
   "file_extension": ".py",
   "mimetype": "text/x-python",
   "name": "python",
   "nbconvert_exporter": "python",
   "pygments_lexer": "ipython3",
   "version": "3.7.0"
  }
 },
 "nbformat": 4,
 "nbformat_minor": 2
}
